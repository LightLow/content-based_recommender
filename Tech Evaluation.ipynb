{
 "cells": [
  {
   "cell_type": "code",
   "execution_count": 645,
   "id": "4a7fd4b5-9f11-44ac-8191-6be9eb5338fb",
   "metadata": {},
   "outputs": [],
   "source": [
    "import json\n",
    "import pandas as pd\n",
    "import nltk\n",
    "import numpy as np"
   ]
  },
  {
   "cell_type": "markdown",
   "id": "a2f4425a-78c2-48c3-ae7c-02991edeed6b",
   "metadata": {},
   "source": [
    "# Build NLP Content-Based Recommender System "
   ]
  },
  {
   "cell_type": "markdown",
   "id": "e53ed920-e3bb-4b8e-9f4f-6958f9630c7c",
   "metadata": {},
   "source": [
    "## Clean up Candidate Data"
   ]
  },
  {
   "cell_type": "code",
   "execution_count": 96,
   "id": "b87dd583-530e-40a3-8c43-c3a6d5f86aff",
   "metadata": {},
   "outputs": [],
   "source": [
    "# consolidate 30 samples of candidate data into a list of dict.\n",
    "def consolidate_data(path):\n",
    "    data = []\n",
    "    for x in os.listdir(\"./Candidate\"):\n",
    "        candidate = json.load(open(path+\"/\"+x, encoding='utf8'))\n",
    "        data.append(candidate[0])\n",
    "    return data\n",
    "\n",
    "candidates_data = consolidate_data(\"./Candidate\")"
   ]
  },
  {
   "cell_type": "code",
   "execution_count": 327,
   "id": "fbc169ce-37a3-45f2-9f90-67980b243063",
   "metadata": {
    "tags": []
   },
   "outputs": [
    {
     "name": "stdout",
     "output_type": "stream",
     "text": [
      "9\n",
      "['certifications', 'location', 'objective', 'publications', 'sections', 'languages', 'summary', 'totalYearsExperience', 'profession']\n"
     ]
    }
   ],
   "source": [
    "# check unique data features\n",
    "def check_feature(data):\n",
    "    cols = []\n",
    "    for candidate in data:\n",
    "        for col in candidate['data'].keys():\n",
    "            if col not in cols:\n",
    "                cols.append(col)\n",
    "    print(len(cols))\n",
    "    print(cols)\n",
    "    return cols\n",
    "\n",
    "cols = check_feature(candidates_data)"
   ]
  },
  {
   "cell_type": "code",
   "execution_count": 330,
   "id": "7d2f9ce3-201e-4f79-9d8e-024fa8007352",
   "metadata": {
    "tags": []
   },
   "outputs": [
    {
     "name": "stdout",
     "output_type": "stream",
     "text": [
      "11\n",
      "['sectionType_Summary', 'sectionType_WorkExperience', 'sectionType_Education', 'sectionType_Footer', 'sectionType_Skills/Interests/Languages', 'sectionType_Extracurriculars/Leadership', 'sectionType_Training/Certifications', 'sectionType_Achievements', 'sectionType_Projects', 'sectionType_AdditionalInformation', 'sectionType_Organisations']\n"
     ]
    }
   ],
   "source": [
    "# check unique sectionType\n",
    "def check_sectionType(data):\n",
    "    sectionType = []\n",
    "    for candidate in data:\n",
    "        for i in range(len(candidate['data']['sections'])):\n",
    "            if candidate['data']['sections'][i]['sectionType'] not in sectionType:\n",
    "                sectionType.append(candidate['data']['sections'][i]['sectionType'])\n",
    "    print(len(sectionType))\n",
    "    return sectionType\n",
    "\n",
    "sect_cols = [\"sectionType_\"+i for i in check_sectionType(candidates_data)]\n",
    "print(sect_cols)"
   ]
  },
  {
   "cell_type": "code",
   "execution_count": 292,
   "id": "40ba544e-9b8d-4479-941b-b584e99f9c85",
   "metadata": {
    "tags": []
   },
   "outputs": [],
   "source": [
    "def transfrom_json2df(data, cols):\n",
    "    final_data = {}\n",
    "    for col in cols:\n",
    "        final_data[col] = []\n",
    "    for candidate in data:\n",
    "        for col in cols:\n",
    "            final_data[col].append(candidate['data'][col])\n",
    "    return final_data   "
   ]
  },
  {
   "cell_type": "code",
   "execution_count": 295,
   "id": "e4b84001-3efa-4300-b0eb-c62eee209cc1",
   "metadata": {},
   "outputs": [
    {
     "data": {
      "text/html": [
       "<div>\n",
       "<style scoped>\n",
       "    .dataframe tbody tr th:only-of-type {\n",
       "        vertical-align: middle;\n",
       "    }\n",
       "\n",
       "    .dataframe tbody tr th {\n",
       "        vertical-align: top;\n",
       "    }\n",
       "\n",
       "    .dataframe thead th {\n",
       "        text-align: right;\n",
       "    }\n",
       "</style>\n",
       "<table border=\"1\" class=\"dataframe\">\n",
       "  <thead>\n",
       "    <tr style=\"text-align: right;\">\n",
       "      <th></th>\n",
       "      <th>certifications</th>\n",
       "      <th>location</th>\n",
       "      <th>objective</th>\n",
       "      <th>publications</th>\n",
       "      <th>sections</th>\n",
       "      <th>languages</th>\n",
       "      <th>summary</th>\n",
       "      <th>totalYearsExperience</th>\n",
       "      <th>profession</th>\n",
       "    </tr>\n",
       "  </thead>\n",
       "  <tbody>\n",
       "    <tr>\n",
       "      <th>0</th>\n",
       "      <td>[]</td>\n",
       "      <td>{'city': 'Seremban', 'state': 'Negeri Sembilan...</td>\n",
       "      <td></td>\n",
       "      <td>[]</td>\n",
       "      <td>[{'sectionType': 'Summary', 'text': 'PROFESSIO...</td>\n",
       "      <td>[Bahasa, English]</td>\n",
       "      <td>To secure a challenging position in a reputabl...</td>\n",
       "      <td>5</td>\n",
       "      <td>Management Trainee</td>\n",
       "    </tr>\n",
       "    <tr>\n",
       "      <th>1</th>\n",
       "      <td>[]</td>\n",
       "      <td>{'city': 'Ipoh', 'state': 'Perak', 'country': ...</td>\n",
       "      <td></td>\n",
       "      <td>[]</td>\n",
       "      <td>[{'sectionType': 'Summary', 'text': 'Objective...</td>\n",
       "      <td>[Malay, English]</td>\n",
       "      <td>March 2022 – 22 July 2022 Objective A sales ex...</td>\n",
       "      <td>0</td>\n",
       "      <td>Waiter</td>\n",
       "    </tr>\n",
       "    <tr>\n",
       "      <th>2</th>\n",
       "      <td>[]</td>\n",
       "      <td>{'city': 'Neodesha', 'state': 'Kansas', 'count...</td>\n",
       "      <td></td>\n",
       "      <td>[]</td>\n",
       "      <td>[{'sectionType': 'Summary', 'text': 'PROFILE C...</td>\n",
       "      <td>[English]</td>\n",
       "      <td>Committed person with an ability to generate a...</td>\n",
       "      <td>2</td>\n",
       "      <td>Associate</td>\n",
       "    </tr>\n",
       "    <tr>\n",
       "      <th>3</th>\n",
       "      <td>[2003 2004 Completed Foundation for Graphic De...</td>\n",
       "      <td>{'city': 'Kuala Lumpur', 'state': 'Wilayah Per...</td>\n",
       "      <td></td>\n",
       "      <td>[]</td>\n",
       "      <td>[{'sectionType': 'Education', 'text': 'Educati...</td>\n",
       "      <td>[Bahasa, English]</td>\n",
       "      <td></td>\n",
       "      <td>13</td>\n",
       "      <td>Operations Manager</td>\n",
       "    </tr>\n",
       "    <tr>\n",
       "      <th>4</th>\n",
       "      <td>[ITIL Foundation V3, ITIL Service LevelManagem...</td>\n",
       "      <td>{'city': 'Subang Jaya', 'state': 'Selangor', '...</td>\n",
       "      <td></td>\n",
       "      <td>[]</td>\n",
       "      <td>[{'sectionType': 'WorkExperience', 'text': 'Fe...</td>\n",
       "      <td>[German, English]</td>\n",
       "      <td>A multi-skilled IT manager with good all round...</td>\n",
       "      <td>7</td>\n",
       "      <td>System Administrator</td>\n",
       "    </tr>\n",
       "  </tbody>\n",
       "</table>\n",
       "</div>"
      ],
      "text/plain": [
       "                                      certifications  \\\n",
       "0                                                 []   \n",
       "1                                                 []   \n",
       "2                                                 []   \n",
       "3  [2003 2004 Completed Foundation for Graphic De...   \n",
       "4  [ITIL Foundation V3, ITIL Service LevelManagem...   \n",
       "\n",
       "                                            location objective publications  \\\n",
       "0  {'city': 'Seremban', 'state': 'Negeri Sembilan...                     []   \n",
       "1  {'city': 'Ipoh', 'state': 'Perak', 'country': ...                     []   \n",
       "2  {'city': 'Neodesha', 'state': 'Kansas', 'count...                     []   \n",
       "3  {'city': 'Kuala Lumpur', 'state': 'Wilayah Per...                     []   \n",
       "4  {'city': 'Subang Jaya', 'state': 'Selangor', '...                     []   \n",
       "\n",
       "                                            sections          languages  \\\n",
       "0  [{'sectionType': 'Summary', 'text': 'PROFESSIO...  [Bahasa, English]   \n",
       "1  [{'sectionType': 'Summary', 'text': 'Objective...   [Malay, English]   \n",
       "2  [{'sectionType': 'Summary', 'text': 'PROFILE C...          [English]   \n",
       "3  [{'sectionType': 'Education', 'text': 'Educati...  [Bahasa, English]   \n",
       "4  [{'sectionType': 'WorkExperience', 'text': 'Fe...  [German, English]   \n",
       "\n",
       "                                             summary  totalYearsExperience  \\\n",
       "0  To secure a challenging position in a reputabl...                     5   \n",
       "1  March 2022 – 22 July 2022 Objective A sales ex...                     0   \n",
       "2  Committed person with an ability to generate a...                     2   \n",
       "3                                                                       13   \n",
       "4  A multi-skilled IT manager with good all round...                     7   \n",
       "\n",
       "             profession  \n",
       "0    Management Trainee  \n",
       "1                Waiter  \n",
       "2             Associate  \n",
       "3    Operations Manager  \n",
       "4  System Administrator  "
      ]
     },
     "metadata": {},
     "output_type": "display_data"
    }
   ],
   "source": [
    "cd_df = pd.DataFrame(transfrom_json2df(candidates_data, cols))\n",
    "display(cd_df.head())"
   ]
  },
  {
   "cell_type": "code",
   "execution_count": 341,
   "id": "3c25cf3a-a81f-48cf-a186-e38b5dc90de2",
   "metadata": {},
   "outputs": [],
   "source": [
    "## expand sections data into different column.\n",
    "df = {}\n",
    "for idx in range(len(cd_df['sections'])):\n",
    "    df[idx] = {'sectionType_Summary':[], \n",
    "               'sectionType_WorkExperience':[], \n",
    "               'sectionType_Education':[], \n",
    "               'sectionType_Footer':[], \n",
    "               'sectionType_Skills/Interests/Languages':[], \n",
    "               'sectionType_Extracurriculars/Leadership':[], \n",
    "               'sectionType_Training/Certifications':[], \n",
    "               'sectionType_Achievements':[], \n",
    "               'sectionType_Projects':[], \n",
    "               'sectionType_AdditionalInformation':[], \n",
    "               'sectionType_Organisations':[]}\n",
    "    for i in range(len(cd_df['sections'][idx])):\n",
    "        sectType = cd_df['sections'][idx][i]['sectionType']\n",
    "        text = cd_df['sections'][idx][i]['text']\n",
    "        df[idx]['sectionType_'+sectType].append(text)"
   ]
  },
  {
   "cell_type": "code",
   "execution_count": 393,
   "id": "8d4caefd-7562-49e0-b431-b280f72e66ba",
   "metadata": {},
   "outputs": [
    {
     "name": "stderr",
     "output_type": "stream",
     "text": [
      "[nltk_data] Downloading package punkt to\n",
      "[nltk_data]     C:\\Users\\lowka\\AppData\\Roaming\\nltk_data...\n",
      "[nltk_data]   Unzipping tokenizers\\punkt.zip.\n",
      "[nltk_data] Downloading package stopwords to\n",
      "[nltk_data]     C:\\Users\\lowka\\AppData\\Roaming\\nltk_data...\n",
      "[nltk_data]   Unzipping corpora\\stopwords.zip.\n",
      "[nltk_data] Downloading package wordnet to\n",
      "[nltk_data]     C:\\Users\\lowka\\AppData\\Roaming\\nltk_data...\n",
      "[nltk_data]   Unzipping corpora\\wordnet.zip.\n",
      "[nltk_data] Downloading package averaged_perceptron_tagger to\n",
      "[nltk_data]     C:\\Users\\lowka\\AppData\\Roaming\\nltk_data...\n",
      "[nltk_data]   Unzipping taggers\\averaged_perceptron_tagger.zip.\n"
     ]
    },
    {
     "data": {
      "text/plain": [
       "True"
      ]
     },
     "execution_count": 393,
     "metadata": {},
     "output_type": "execute_result"
    }
   ],
   "source": [
    "nltk.download('punkt')\n",
    "nltk.download('stopwords')\n",
    "nltk.download('wordnet')\n",
    "nltk.download('averaged_perceptron_tagger')"
   ]
  },
  {
   "cell_type": "code",
   "execution_count": 815,
   "id": "3a01966f-3684-48ce-9cf8-a898822e7f28",
   "metadata": {},
   "outputs": [],
   "source": [
    "from nltk.corpus import stopwords\n",
    "import re\n",
    "import string\n",
    "from nltk.stem import WordNetLemmatizer\n",
    "from nltk import word_tokenize\n",
    "from nltk.corpus import stopwords\n",
    "from nltk.tokenize import RegexpTokenizer\n",
    "\n",
    "tokenizer = RegexpTokenizer(r'\\w+')\n",
    "stop = stopwords.words('english')\n",
    "stop_words_ = set(stopwords.words('english'))\n",
    "wn = WordNetLemmatizer()\n",
    "\n",
    "def black_txt(token):\n",
    "    return  token not in stop_words_ and token not in list(string.punctuation)  and len(token)>2 \n",
    "\n",
    "def clean_txt(text):\n",
    "    clean_html = re.compile(r'<.*?>')\n",
    "    clean_text = clean_html.sub('', text) # clean html tag in dataset\n",
    "    clean_number = re.compile(r'[0-9]')\n",
    "    clean_text = clean_number.sub('', clean_text) # clean number in dataset\n",
    "    clean_text = clean_text.replace(\"nbsp\", \"\")\n",
    "    clean_text = [wn.lemmatize(word, pos=\"v\") for word in word_tokenize(clean_text.lower()) if black_txt(word)]\n",
    "    clean_text = tokenizer.tokenize(\" \".join(clean_text))\n",
    "    return \" \".join(clean_text)"
   ]
  },
  {
   "cell_type": "code",
   "execution_count": 816,
   "id": "cac6f1ae-ed65-49c3-bd0a-52c2413a5ed3",
   "metadata": {
    "tags": []
   },
   "outputs": [
    {
     "data": {
      "text/html": [
       "<div>\n",
       "<style scoped>\n",
       "    .dataframe tbody tr th:only-of-type {\n",
       "        vertical-align: middle;\n",
       "    }\n",
       "\n",
       "    .dataframe tbody tr th {\n",
       "        vertical-align: top;\n",
       "    }\n",
       "\n",
       "    .dataframe thead th {\n",
       "        text-align: right;\n",
       "    }\n",
       "</style>\n",
       "<table border=\"1\" class=\"dataframe\">\n",
       "  <thead>\n",
       "    <tr style=\"text-align: right;\">\n",
       "      <th></th>\n",
       "      <th>CandidateID</th>\n",
       "      <th>text</th>\n",
       "    </tr>\n",
       "  </thead>\n",
       "  <tbody>\n",
       "    <tr>\n",
       "      <th>0</th>\n",
       "      <td>0</td>\n",
       "      <td>secure challenge position reputable organizati...</td>\n",
       "    </tr>\n",
       "    <tr>\n",
       "      <th>1</th>\n",
       "      <td>1</td>\n",
       "      <td>march july objective sales executive business ...</td>\n",
       "    </tr>\n",
       "    <tr>\n",
       "      <th>2</th>\n",
       "      <td>2</td>\n",
       "      <td>commit person ability generate implement effec...</td>\n",
       "    </tr>\n",
       "    <tr>\n",
       "      <th>3</th>\n",
       "      <td>3</td>\n",
       "      <td>complete foundation graphic design centre adva...</td>\n",
       "    </tr>\n",
       "    <tr>\n",
       "      <th>4</th>\n",
       "      <td>4</td>\n",
       "      <td>itil foundation itil service levelmanagementpr...</td>\n",
       "    </tr>\n",
       "  </tbody>\n",
       "</table>\n",
       "</div>"
      ],
      "text/plain": [
       "   CandidateID                                               text\n",
       "0            0  secure challenge position reputable organizati...\n",
       "1            1  march july objective sales executive business ...\n",
       "2            2  commit person ability generate implement effec...\n",
       "3            3  complete foundation graphic design centre adva...\n",
       "4            4  itil foundation itil service levelmanagementpr..."
      ]
     },
     "metadata": {},
     "output_type": "display_data"
    }
   ],
   "source": [
    "clean_data = cd_df.merge(pd.DataFrame(df).T, left_index=True, right_index=True)\n",
    "selected_cols = ['certifications', \n",
    "                 'objective',\n",
    "                 'summary', \n",
    "                 'profession', \n",
    "                 'sectionType_Summary', \n",
    "                 'sectionType_WorkExperience', \n",
    "                 'sectionType_Education', \n",
    "                 'sectionType_Skills/Interests/Languages',\n",
    "                 'sectionType_Extracurriculars/Leadership',\n",
    "                 'sectionType_Achievements',\n",
    "                 'sectionType_Projects'] \n",
    "clean_data = clean_data[selected_cols]\n",
    "\n",
    "clean_data['text'] = clean_data['certifications'].map(str) + \" \" + clean_data['objective'].map(str) + \" \" + clean_data['summary'].map(str) + \" \" + clean_data['profession'].map(str) + \" \" + clean_data['sectionType_Summary'].map(str) + clean_data['sectionType_WorkExperience'].map(str) + \" \" + clean_data['sectionType_Education'].map(str) + \" \" + clean_data['sectionType_Skills/Interests/Languages'].map(str) + \" \" + clean_data['sectionType_Extracurriculars/Leadership'].map(str) + \" \" + clean_data['sectionType_Achievements'].map(str) + \" \" + clean_data['sectionType_Projects'].map(str)\n",
    "\n",
    "clean_data = clean_data.reset_index()[['index', 'text']]\n",
    "clean_data.columns = ['CandidateID', 'text']\n",
    "clean_data['text'] = clean_data['text'].apply(clean_txt)\n",
    "\n",
    "display(clean_data.head())"
   ]
  },
  {
   "cell_type": "markdown",
   "id": "743089d1-1e1c-4757-8d4c-407ee4c3bca1",
   "metadata": {},
   "source": [
    "## Clean up Job Data"
   ]
  },
  {
   "cell_type": "code",
   "execution_count": 817,
   "id": "6cb3b6e6-4802-47b3-9627-9c43b7aaca10",
   "metadata": {},
   "outputs": [
    {
     "data": {
      "text/html": [
       "<div>\n",
       "<style scoped>\n",
       "    .dataframe tbody tr th:only-of-type {\n",
       "        vertical-align: middle;\n",
       "    }\n",
       "\n",
       "    .dataframe tbody tr th {\n",
       "        vertical-align: top;\n",
       "    }\n",
       "\n",
       "    .dataframe thead th {\n",
       "        text-align: right;\n",
       "    }\n",
       "</style>\n",
       "<table border=\"1\" class=\"dataframe\">\n",
       "  <thead>\n",
       "    <tr style=\"text-align: right;\">\n",
       "      <th></th>\n",
       "      <th>JobID</th>\n",
       "      <th>title</th>\n",
       "      <th>text</th>\n",
       "    </tr>\n",
       "  </thead>\n",
       "  <tbody>\n",
       "    <tr>\n",
       "      <th>0</th>\n",
       "      <td>0</td>\n",
       "      <td>Business Development Executive</td>\n",
       "      <td>business development executive research identi...</td>\n",
       "    </tr>\n",
       "    <tr>\n",
       "      <th>1</th>\n",
       "      <td>1</td>\n",
       "      <td>Data Scientist</td>\n",
       "      <td>data scientist need convert data actionable in...</td>\n",
       "    </tr>\n",
       "    <tr>\n",
       "      <th>2</th>\n",
       "      <td>2</td>\n",
       "      <td>Software Developer</td>\n",
       "      <td>software developer software coder passionate d...</td>\n",
       "    </tr>\n",
       "    <tr>\n",
       "      <th>3</th>\n",
       "      <td>3</td>\n",
       "      <td>Mobile App Developer</td>\n",
       "      <td>mobile app developer mobile application develo...</td>\n",
       "    </tr>\n",
       "    <tr>\n",
       "      <th>4</th>\n",
       "      <td>4</td>\n",
       "      <td>Graphic Designer</td>\n",
       "      <td>graphic designer product shoot company product...</td>\n",
       "    </tr>\n",
       "    <tr>\n",
       "      <th>5</th>\n",
       "      <td>5</td>\n",
       "      <td>Customer Happiness Associate</td>\n",
       "      <td>customer happiness associate join meaningful c...</td>\n",
       "    </tr>\n",
       "    <tr>\n",
       "      <th>6</th>\n",
       "      <td>6</td>\n",
       "      <td>Customer Happiness Officer</td>\n",
       "      <td>customer happiness officer role customer happi...</td>\n",
       "    </tr>\n",
       "    <tr>\n",
       "      <th>7</th>\n",
       "      <td>7</td>\n",
       "      <td>Digital Marketing Specialist</td>\n",
       "      <td>digital market specialist strong grasp current...</td>\n",
       "    </tr>\n",
       "    <tr>\n",
       "      <th>8</th>\n",
       "      <td>8</td>\n",
       "      <td>Digital Marketing Executive</td>\n",
       "      <td>digital market executive teamwe market team bi...</td>\n",
       "    </tr>\n",
       "    <tr>\n",
       "      <th>9</th>\n",
       "      <td>9</td>\n",
       "      <td>Sales Executive</td>\n",
       "      <td>sales executive role within company lead expan...</td>\n",
       "    </tr>\n",
       "  </tbody>\n",
       "</table>\n",
       "</div>"
      ],
      "text/plain": [
       "   JobID                           title  \\\n",
       "0      0  Business Development Executive   \n",
       "1      1                  Data Scientist   \n",
       "2      2              Software Developer   \n",
       "3      3            Mobile App Developer   \n",
       "4      4                Graphic Designer   \n",
       "5      5    Customer Happiness Associate   \n",
       "6      6      Customer Happiness Officer   \n",
       "7      7   Digital Marketing Specialist    \n",
       "8      8     Digital Marketing Executive   \n",
       "9      9                 Sales Executive   \n",
       "\n",
       "                                                text  \n",
       "0  business development executive research identi...  \n",
       "1  data scientist need convert data actionable in...  \n",
       "2  software developer software coder passionate d...  \n",
       "3  mobile app developer mobile application develo...  \n",
       "4  graphic designer product shoot company product...  \n",
       "5  customer happiness associate join meaningful c...  \n",
       "6  customer happiness officer role customer happi...  \n",
       "7  digital market specialist strong grasp current...  \n",
       "8  digital market executive teamwe market team bi...  \n",
       "9  sales executive role within company lead expan...  "
      ]
     },
     "execution_count": 817,
     "metadata": {},
     "output_type": "execute_result"
    }
   ],
   "source": [
    "job_df = pd.read_csv(\"./Job/jobs.csv\")\n",
    "job_df = job_df.reset_index()\n",
    "job_df['text'] = job_df['title'] + \" \" + job_df['description'] + \" \" + job_df['requirements'] + \" \" + job_df['short_description']\n",
    "job_df = job_df[['index', 'title', 'text']]\n",
    "job_df.columns = ['JobID', 'title', 'text']\n",
    "job_df['text'] = job_df['text'].apply(clean_txt) \n",
    "job_df"
   ]
  },
  {
   "cell_type": "markdown",
   "id": "6e9387d0-edf1-41c9-92d2-49983a71f64c",
   "metadata": {},
   "source": [
    "# Building Recommender System"
   ]
  },
  {
   "cell_type": "markdown",
   "id": "fbd6e795-8ee3-4ab4-a825-1a65fdc88ee1",
   "metadata": {},
   "source": [
    "## Recommendation using cosine similarity"
   ]
  },
  {
   "cell_type": "code",
   "execution_count": 957,
   "id": "72d7e9d5-5c0b-47ba-ac0e-176f894b6636",
   "metadata": {},
   "outputs": [
    {
     "name": "stdout",
     "output_type": "stream",
     "text": [
      "    CandidateID                                               text\n",
      "25           25  basic program bsc hons information technology ...\n",
      "basic program bsc hons information technology fresh graduate passionate develop user friendly website mobile applications excellent problem solving skills ability perform well team look fulltime position backend developers web developers mobile application developer internship bsc hons information technology fresh graduate passionate develop user friendly website mobile applications excellent problem solving skills ability perform well team look fulltime position backend developers web developers mobile application developer work experince internship backend development webby group sdn bhd achievements tasks design implement rule business logic use graphql query laravel php implement various function mobile front end development use graphql api laravel php fix debug function errors mobile frontend development use graphql api laravel php fix web application design use html css javascript laravel php framework intern epic unicorn sdn bhd achievements tasks optimise seo performance website wordpress assist design webpage layout design t shirt adobe photoshop edit compress web page picture test prototype apps set e commerce website promoter setel petronas achievements tasks engage customers discover want need set promotional stand promote apps provide need information promote products service webdesigner assistant mart sdn bhd achievements tasks assist colleagues identify customers web design need assist design webpage layout create land page website edit update picture facebook education bsc hons information technology sunway university project create design basic e books rental software use scala css create mobile app prototype figma diploma information technology sunway college project create design business website use html css basic javascript web development subject use android studio create simple mobile application to do list application create design functional food order system website final year project use html css php javascript mysql skills knowlege graphql knowlege laravel php knowlege design pattern mvc knowledge mysql knowledge html css php knowledge bootstrap knowlege wordpress cpanel phpmyadmin knowlege figma canva knowledge office tool basic program language java javascript react js basicadobe photoshop skills basic video edit skills friendly customer interaction creativity problem solve languages mandarin english organisation sunway taekwondo club logistics manager sunway taekwondo club treasurer\n"
     ]
    }
   ],
   "source": [
    "u = 25\n",
    "index = np.where(clean_data['CandidateID'] == u)[0][0]\n",
    "user_q = clean_data.iloc[[index]]\n",
    "print(user_q)\n",
    "print(user_q['text'][u])"
   ]
  },
  {
   "cell_type": "markdown",
   "id": "392f58b9-80b4-484a-9a7d-2bc2b62d1310",
   "metadata": {},
   "source": [
    "### 1. Using TFIDF"
   ]
  },
  {
   "cell_type": "code",
   "execution_count": 958,
   "id": "4f8865f9-2a39-41a8-9fdf-2fa90ec8bc96",
   "metadata": {},
   "outputs": [
    {
     "data": {
      "text/plain": [
       "<10x745 sparse matrix of type '<class 'numpy.float64'>'\n",
       "\twith 1094 stored elements in Compressed Sparse Row format>"
      ]
     },
     "execution_count": 958,
     "metadata": {},
     "output_type": "execute_result"
    }
   ],
   "source": [
    "# Initializing tfidf vectorizer\n",
    "from sklearn.feature_extraction.text import TfidfVectorizer\n",
    "tfidf_vectorizer = TfidfVectorizer()\n",
    "\n",
    "tfidf_jobid = tfidf_vectorizer.fit_transform((job_df['text'])) # fitting and transforming the vector\n",
    "tfidf_jobid"
   ]
  },
  {
   "cell_type": "code",
   "execution_count": 959,
   "id": "88e03e88-589b-4ffb-8d04-8dc60095537a",
   "metadata": {},
   "outputs": [],
   "source": [
    "# Computing cosine similarity using tfidf\n",
    "from sklearn.metrics.pairwise import cosine_similarity\n",
    "\n",
    "candidate_tfidf = tfidf_vectorizer.transform(user_q['text'])\n",
    "cos_similarity_tfidf = map(lambda x: cosine_similarity(candidate_tfidf, x),tfidf_jobid)"
   ]
  },
  {
   "cell_type": "code",
   "execution_count": 960,
   "id": "7d59989e-e528-4de0-bfba-bb2e175b1d32",
   "metadata": {},
   "outputs": [],
   "source": [
    "output = list(cos_similarity_tfidf)"
   ]
  },
  {
   "cell_type": "code",
   "execution_count": 961,
   "id": "705dbbfa-c869-4d21-b18c-ded39d14af7c",
   "metadata": {},
   "outputs": [],
   "source": [
    "def recom_by_tfid(job_df, output):\n",
    "\n",
    "    list_scores = output\n",
    "    recommendation = {'JobID': [],'Title': [], 'Score': list_scores}\n",
    "    \n",
    "    for i in range(len(list_scores)):\n",
    "        recommendation['JobID'].append(job_df[job_df['JobID']==i].JobID[i])  \n",
    "        recommendation['Title'].append(job_df[job_df['JobID']==i].title[i]) \n",
    "        \n",
    "    df = pd.DataFrame(recommendation).sort_values(\"Score\", ascending=False)\n",
    "    df['Score'] = df['Score'].astype('float')\n",
    "    return df"
   ]
  },
  {
   "cell_type": "code",
   "execution_count": 962,
   "id": "217d0531-3223-4f25-8ef8-b1f2bf248aad",
   "metadata": {},
   "outputs": [
    {
     "data": {
      "text/html": [
       "<div>\n",
       "<style scoped>\n",
       "    .dataframe tbody tr th:only-of-type {\n",
       "        vertical-align: middle;\n",
       "    }\n",
       "\n",
       "    .dataframe tbody tr th {\n",
       "        vertical-align: top;\n",
       "    }\n",
       "\n",
       "    .dataframe thead th {\n",
       "        text-align: right;\n",
       "    }\n",
       "</style>\n",
       "<table border=\"1\" class=\"dataframe\">\n",
       "  <thead>\n",
       "    <tr style=\"text-align: right;\">\n",
       "      <th></th>\n",
       "      <th>JobID</th>\n",
       "      <th>Title</th>\n",
       "      <th>Score</th>\n",
       "    </tr>\n",
       "  </thead>\n",
       "  <tbody>\n",
       "    <tr>\n",
       "      <th>3</th>\n",
       "      <td>3</td>\n",
       "      <td>Mobile App Developer</td>\n",
       "      <td>0.302903</td>\n",
       "    </tr>\n",
       "    <tr>\n",
       "      <th>2</th>\n",
       "      <td>2</td>\n",
       "      <td>Software Developer</td>\n",
       "      <td>0.207543</td>\n",
       "    </tr>\n",
       "    <tr>\n",
       "      <th>7</th>\n",
       "      <td>7</td>\n",
       "      <td>Digital Marketing Specialist</td>\n",
       "      <td>0.143324</td>\n",
       "    </tr>\n",
       "    <tr>\n",
       "      <th>8</th>\n",
       "      <td>8</td>\n",
       "      <td>Digital Marketing Executive</td>\n",
       "      <td>0.133703</td>\n",
       "    </tr>\n",
       "    <tr>\n",
       "      <th>4</th>\n",
       "      <td>4</td>\n",
       "      <td>Graphic Designer</td>\n",
       "      <td>0.102582</td>\n",
       "    </tr>\n",
       "    <tr>\n",
       "      <th>9</th>\n",
       "      <td>9</td>\n",
       "      <td>Sales Executive</td>\n",
       "      <td>0.089486</td>\n",
       "    </tr>\n",
       "    <tr>\n",
       "      <th>1</th>\n",
       "      <td>1</td>\n",
       "      <td>Data Scientist</td>\n",
       "      <td>0.088540</td>\n",
       "    </tr>\n",
       "    <tr>\n",
       "      <th>5</th>\n",
       "      <td>5</td>\n",
       "      <td>Customer Happiness Associate</td>\n",
       "      <td>0.060773</td>\n",
       "    </tr>\n",
       "    <tr>\n",
       "      <th>0</th>\n",
       "      <td>0</td>\n",
       "      <td>Business Development Executive</td>\n",
       "      <td>0.058976</td>\n",
       "    </tr>\n",
       "    <tr>\n",
       "      <th>6</th>\n",
       "      <td>6</td>\n",
       "      <td>Customer Happiness Officer</td>\n",
       "      <td>0.054184</td>\n",
       "    </tr>\n",
       "  </tbody>\n",
       "</table>\n",
       "</div>"
      ],
      "text/plain": [
       "   JobID                           Title     Score\n",
       "3      3            Mobile App Developer  0.302903\n",
       "2      2              Software Developer  0.207543\n",
       "7      7   Digital Marketing Specialist   0.143324\n",
       "8      8     Digital Marketing Executive  0.133703\n",
       "4      4                Graphic Designer  0.102582\n",
       "9      9                 Sales Executive  0.089486\n",
       "1      1                  Data Scientist  0.088540\n",
       "5      5    Customer Happiness Associate  0.060773\n",
       "0      0  Business Development Executive  0.058976\n",
       "6      6      Customer Happiness Officer  0.054184"
      ]
     },
     "execution_count": 962,
     "metadata": {},
     "output_type": "execute_result"
    }
   ],
   "source": [
    "recom_by_tfid(job_df, output)"
   ]
  },
  {
   "cell_type": "markdown",
   "id": "81407f2e-9852-49da-ba63-8a0ddef8f0b4",
   "metadata": {},
   "source": [
    "### 2. Using Count Vectorizer"
   ]
  },
  {
   "cell_type": "code",
   "execution_count": 963,
   "id": "39d08b29-e44d-40fa-9c84-0d7c683ca775",
   "metadata": {},
   "outputs": [
    {
     "data": {
      "text/plain": [
       "<10x745 sparse matrix of type '<class 'numpy.int64'>'\n",
       "\twith 1094 stored elements in Compressed Sparse Row format>"
      ]
     },
     "execution_count": 963,
     "metadata": {},
     "output_type": "execute_result"
    }
   ],
   "source": [
    "# Computing cosine similarity using CountVector\n",
    "from sklearn.feature_extraction.text import CountVectorizer\n",
    "count_vectorizer = CountVectorizer()\n",
    "\n",
    "count_jobid = count_vectorizer.fit_transform((job_df['text'])) # fitting and transforming the vector\n",
    "count_jobid"
   ]
  },
  {
   "cell_type": "code",
   "execution_count": 964,
   "id": "ac69b88b-7bac-457e-9e0c-269680912c9c",
   "metadata": {},
   "outputs": [],
   "source": [
    "user_count = count_vectorizer.transform(user_q['text'])\n",
    "cos_similarity_countv = map(lambda x: cosine_similarity(user_count, x),count_jobid)\n",
    "output = list(cos_similarity_countv)"
   ]
  },
  {
   "cell_type": "code",
   "execution_count": 965,
   "id": "c17ed763-2664-4552-92ae-06d60000b4d3",
   "metadata": {},
   "outputs": [],
   "source": [
    "def recom_by_CV(job_df, output):\n",
    "\n",
    "    list_scores = output\n",
    "    recommendation = {'JobID': [],'Title': [], 'Score': list_scores}\n",
    "    \n",
    "    for i in range(len(list_scores)):\n",
    "        recommendation['JobID'].append(job_df[job_df['JobID']==i].JobID[i])  \n",
    "        recommendation['Title'].append(job_df[job_df['JobID']==i].title[i]) \n",
    "        \n",
    "    df = pd.DataFrame(recommendation).sort_values(\"Score\", ascending=False)\n",
    "    df['Score'] = df['Score'].astype('float')\n",
    "    return df"
   ]
  },
  {
   "cell_type": "code",
   "execution_count": 966,
   "id": "25be402f-0d6e-421f-b182-6d6886307540",
   "metadata": {},
   "outputs": [
    {
     "data": {
      "text/html": [
       "<div>\n",
       "<style scoped>\n",
       "    .dataframe tbody tr th:only-of-type {\n",
       "        vertical-align: middle;\n",
       "    }\n",
       "\n",
       "    .dataframe tbody tr th {\n",
       "        vertical-align: top;\n",
       "    }\n",
       "\n",
       "    .dataframe thead th {\n",
       "        text-align: right;\n",
       "    }\n",
       "</style>\n",
       "<table border=\"1\" class=\"dataframe\">\n",
       "  <thead>\n",
       "    <tr style=\"text-align: right;\">\n",
       "      <th></th>\n",
       "      <th>JobID</th>\n",
       "      <th>Title</th>\n",
       "      <th>Score</th>\n",
       "    </tr>\n",
       "  </thead>\n",
       "  <tbody>\n",
       "    <tr>\n",
       "      <th>3</th>\n",
       "      <td>3</td>\n",
       "      <td>Mobile App Developer</td>\n",
       "      <td>0.338712</td>\n",
       "    </tr>\n",
       "    <tr>\n",
       "      <th>2</th>\n",
       "      <td>2</td>\n",
       "      <td>Software Developer</td>\n",
       "      <td>0.245903</td>\n",
       "    </tr>\n",
       "    <tr>\n",
       "      <th>8</th>\n",
       "      <td>8</td>\n",
       "      <td>Digital Marketing Executive</td>\n",
       "      <td>0.180160</td>\n",
       "    </tr>\n",
       "    <tr>\n",
       "      <th>4</th>\n",
       "      <td>4</td>\n",
       "      <td>Graphic Designer</td>\n",
       "      <td>0.163681</td>\n",
       "    </tr>\n",
       "    <tr>\n",
       "      <th>7</th>\n",
       "      <td>7</td>\n",
       "      <td>Digital Marketing Specialist</td>\n",
       "      <td>0.161915</td>\n",
       "    </tr>\n",
       "    <tr>\n",
       "      <th>9</th>\n",
       "      <td>9</td>\n",
       "      <td>Sales Executive</td>\n",
       "      <td>0.111667</td>\n",
       "    </tr>\n",
       "    <tr>\n",
       "      <th>1</th>\n",
       "      <td>1</td>\n",
       "      <td>Data Scientist</td>\n",
       "      <td>0.106399</td>\n",
       "    </tr>\n",
       "    <tr>\n",
       "      <th>0</th>\n",
       "      <td>0</td>\n",
       "      <td>Business Development Executive</td>\n",
       "      <td>0.102763</td>\n",
       "    </tr>\n",
       "    <tr>\n",
       "      <th>5</th>\n",
       "      <td>5</td>\n",
       "      <td>Customer Happiness Associate</td>\n",
       "      <td>0.094355</td>\n",
       "    </tr>\n",
       "    <tr>\n",
       "      <th>6</th>\n",
       "      <td>6</td>\n",
       "      <td>Customer Happiness Officer</td>\n",
       "      <td>0.085383</td>\n",
       "    </tr>\n",
       "  </tbody>\n",
       "</table>\n",
       "</div>"
      ],
      "text/plain": [
       "   JobID                           Title     Score\n",
       "3      3            Mobile App Developer  0.338712\n",
       "2      2              Software Developer  0.245903\n",
       "8      8     Digital Marketing Executive  0.180160\n",
       "4      4                Graphic Designer  0.163681\n",
       "7      7   Digital Marketing Specialist   0.161915\n",
       "9      9                 Sales Executive  0.111667\n",
       "1      1                  Data Scientist  0.106399\n",
       "0      0  Business Development Executive  0.102763\n",
       "5      5    Customer Happiness Associate  0.094355\n",
       "6      6      Customer Happiness Officer  0.085383"
      ]
     },
     "metadata": {},
     "output_type": "display_data"
    },
    {
     "name": "stdout",
     "output_type": "stream",
     "text": [
      "Candidate Summary:  BSc (Hons) Information Technology fresh graduate passionate about developing user-friendly website and mobile applications. Excellent problem-solving skills and ability to perform well in a team. Looking for fulltime positions Backend developers, web developers and mobile application developer.\n",
      "Candidate Sections:  [{'sectionType': 'Summary', 'text': 'BSc (Hons) Information Technology fresh graduate passionate about developing user-friendly website and mobile applications. Excellent problem-solving skills and ability to perform well in a team. Looking for fulltime positions Backend developers, web developers and mobile application developer.'}, {'sectionType': 'Education', 'text': 'EDUCATION Bsc (Hons) Information Technology Sunway University 03/2020 - 03/2022 Projects Create and design a basic e-Books Rental Software using Scala and css. Create a UI UX mobile app prototype with Figma. Diploma in Information Technology Sunway College 01/2018 - 03/2020 Projects Create and design a business website using HTML, CSS and basic Javascript for web development subject. Use Android Studio to create a simple Q&A mobile application and a to-do list application. Create and design a Functional Food Ordering System website for Final Year Project using HTML, CSS, PHP, Javascript and MySQL.'}, {'sectionType': 'Skills/Interests/Languages', 'text': 'SKILLS Knowlege in Graphql Knowlege in Laravel Php Knowlege in Design pattern: MVC Knowledge in MySQL. Knowledge of HTML, CSS & PHP. Knowledge in Bootstrap Knowlege of wordpress, cPanel and phpMyAdmin. Knowlege of Figma and Canva. Knowledge of MS Office tools. Basic programming language –Java, JavaScript & React.js BasicAdobe photoshop skills. Basic video editing skills. Friendly customer interaction. Creativity and Problem Solving'}, {'sectionType': 'WorkExperience', 'text': 'WORK EXPERINCE Internship in Backend Development Webby Group Sdn Bhd 12/2021 - 03/2022 Achievements/Tasks Designed and implemented the rules of Business Logic using GraphQL queries and Laravel PHP. Implemented various functions for the Mobile front end development using GraphQL API and Laravel PHP. Fix and debug function errors for mobile frontend development using Graphql API and Laravel PHP. Fix web application design UI using HTML, CSS, JavaScript and Laravel PHP framework. Interns Epic Unicorn SDN BHD 10/2019 - 12/2019 Achievements/Tasks Optimise the SEO and performance of the website with WordPress. Assisted with designing webpage layout. Designed T-shirt with Adobe Photoshop. Edit and compress web page pictures. Test prototype apps. Set up an E-commerce website. Promoter Setel Petronas 05/2019 - 05/2019 Achievements/Tasks Engaged with customers and discover their wants and needs. Set up promotional stands and promoted apps. Provided all the needed information on promoted products and services.'}, {'sectionType': 'WorkExperience', 'text': 'WebDesigner Assistant PC MART SDN BHD 06/2018 - 07/2018 Achievements/Tasks Assisted colleagues in identifying customers web-design needs. Assisted with designing webpage layout. Created landing page website. Edited and update pictures to facebook.'}, {'sectionType': 'Skills/Interests/Languages', 'text': 'LANGUAGES Mandarin English'}, {'sectionType': 'Extracurriculars/Leadership', 'text': 'ORGANISATION Sunway Taekwondo Clubs (08/2018 - 08/2019) Logistics manager Sunway Taekwondo Clubs (08/2019 - 02/2020) Treasurer'}]\n"
     ]
    }
   ],
   "source": [
    "display(recom_by_CV(job_df, output))\n",
    "print(\"Candidate Summary: \", cd_df.iloc[userTest]['summary'])\n",
    "print(\"Candidate Sections: \", cd_df.iloc[userTest]['sections'])"
   ]
  },
  {
   "cell_type": "markdown",
   "id": "d7cbdc1c-0f20-413b-a002-32af0e0da011",
   "metadata": {},
   "source": [
    "# Recommendation using Spacy"
   ]
  },
  {
   "cell_type": "code",
   "execution_count": 967,
   "id": "96012ac2-44f0-4b1a-82b0-3e13a85010bc",
   "metadata": {},
   "outputs": [],
   "source": [
    "# !pip install spacy\n",
    "# !python -m spacy download en_core_web_lg\n",
    "import spacy"
   ]
  },
  {
   "cell_type": "code",
   "execution_count": 968,
   "id": "71b36e63-adb2-4ec7-83ba-0eef4973112f",
   "metadata": {},
   "outputs": [],
   "source": [
    "nlp = spacy.load('/Users/lowka/anaconda3/Lib/site-packages/en_core_web_lg/en_core_web_lg-3.2.0')"
   ]
  },
  {
   "cell_type": "code",
   "execution_count": 969,
   "id": "f87a6188-05a4-4a73-9d73-220cae5251db",
   "metadata": {},
   "outputs": [
    {
     "name": "stdout",
     "output_type": "stream",
     "text": [
      "10\n",
      "Wall time: 293 ms\n"
     ]
    }
   ],
   "source": [
    "%%time\n",
    "list_docs = []\n",
    "for i in range(len(job_df)):\n",
    "    doc = nlp(\"u'\" + job_df['text'][i] + \"'\")\n",
    "    list_docs.append((doc,i))\n",
    "print(len(list_docs))"
   ]
  },
  {
   "cell_type": "code",
   "execution_count": 970,
   "id": "546df108-ade9-4d6d-b594-2ff7b80483c5",
   "metadata": {},
   "outputs": [],
   "source": [
    "def calculateSimWithSpaCy(nlp, df, user_text):\n",
    "    # Calculate similarity using spaCy\n",
    "    list_sim =[]\n",
    "    doc1 = nlp(\"u'\" + user_text + \"'\")\n",
    "    for i in df.index:\n",
    "        try:\n",
    "            doc2 = list_docs[i][0]\n",
    "            score = doc1.similarity(doc2)\n",
    "            list_sim.append((doc1, doc2, list_docs[i][1],score))\n",
    "        except:\n",
    "            continue\n",
    "\n",
    "    return  list_sim "
   ]
  },
  {
   "cell_type": "code",
   "execution_count": 971,
   "id": "5853c2f3-25ca-4a89-9ac5-5e4a77285aec",
   "metadata": {},
   "outputs": [
    {
     "data": {
      "text/plain": [
       "'basic program bsc hons information technology fresh graduate passionate develop user friendly website mobile applications excellent problem solving skills ability perform well team look fulltime position backend developers web developers mobile application developer internship bsc hons information technology fresh graduate passionate develop user friendly website mobile applications excellent problem solving skills ability perform well team look fulltime position backend developers web developers mobile application developer work experince internship backend development webby group sdn bhd achievements tasks design implement rule business logic use graphql query laravel php implement various function mobile front end development use graphql api laravel php fix debug function errors mobile frontend development use graphql api laravel php fix web application design use html css javascript laravel php framework intern epic unicorn sdn bhd achievements tasks optimise seo performance website wordpress assist design webpage layout design t shirt adobe photoshop edit compress web page picture test prototype apps set e commerce website promoter setel petronas achievements tasks engage customers discover want need set promotional stand promote apps provide need information promote products service webdesigner assistant mart sdn bhd achievements tasks assist colleagues identify customers web design need assist design webpage layout create land page website edit update picture facebook education bsc hons information technology sunway university project create design basic e books rental software use scala css create mobile app prototype figma diploma information technology sunway college project create design business website use html css basic javascript web development subject use android studio create simple mobile application to do list application create design functional food order system website final year project use html css php javascript mysql skills knowlege graphql knowlege laravel php knowlege design pattern mvc knowledge mysql knowledge html css php knowledge bootstrap knowlege wordpress cpanel phpmyadmin knowlege figma canva knowledge office tool basic program language java javascript react js basicadobe photoshop skills basic video edit skills friendly customer interaction creativity problem solve languages mandarin english organisation sunway taekwondo club logistics manager sunway taekwondo club treasurer'"
      ]
     },
     "execution_count": 971,
     "metadata": {},
     "output_type": "execute_result"
    }
   ],
   "source": [
    "clean_data.text[u]"
   ]
  },
  {
   "cell_type": "code",
   "execution_count": 972,
   "id": "2927b3ef-1dd9-481d-8245-6a3fc626a237",
   "metadata": {},
   "outputs": [],
   "source": [
    "def recom_by_spacy(nlp, job_df, candidate_data, n):\n",
    "    df = calculateSimWithSpaCy(nlp, job_df, candidate_data.text[n])\n",
    "    df_recom_spacy = pd.DataFrame(df).sort_values([3], ascending=False).head(10)\n",
    "    df_recom_spacy.reset_index(inplace=True)\n",
    "    index_spacy = df_recom_spacy[2]\n",
    "    list_scores = df_recom_spacy[3]\n",
    "    recommendation = {'JobID': index_spacy,'Title': [], 'Score': list_scores}\n",
    "    \n",
    "    for i in range(len(recommendation['JobID'])):\n",
    "        recommendation['Title'].append(job_df[job_df['JobID']==i].title[i])    \n",
    "    df = pd.DataFrame(recommendation)\n",
    "    return df"
   ]
  },
  {
   "cell_type": "code",
   "execution_count": 973,
   "id": "f0dac970-ac13-4b88-9c53-0b5b1fb34a90",
   "metadata": {},
   "outputs": [
    {
     "data": {
      "text/html": [
       "<div>\n",
       "<style scoped>\n",
       "    .dataframe tbody tr th:only-of-type {\n",
       "        vertical-align: middle;\n",
       "    }\n",
       "\n",
       "    .dataframe tbody tr th {\n",
       "        vertical-align: top;\n",
       "    }\n",
       "\n",
       "    .dataframe thead th {\n",
       "        text-align: right;\n",
       "    }\n",
       "</style>\n",
       "<table border=\"1\" class=\"dataframe\">\n",
       "  <thead>\n",
       "    <tr style=\"text-align: right;\">\n",
       "      <th></th>\n",
       "      <th>JobID</th>\n",
       "      <th>Title</th>\n",
       "      <th>Score</th>\n",
       "    </tr>\n",
       "  </thead>\n",
       "  <tbody>\n",
       "    <tr>\n",
       "      <th>0</th>\n",
       "      <td>2</td>\n",
       "      <td>Business Development Executive</td>\n",
       "      <td>0.935271</td>\n",
       "    </tr>\n",
       "    <tr>\n",
       "      <th>1</th>\n",
       "      <td>3</td>\n",
       "      <td>Data Scientist</td>\n",
       "      <td>0.933031</td>\n",
       "    </tr>\n",
       "    <tr>\n",
       "      <th>2</th>\n",
       "      <td>7</td>\n",
       "      <td>Software Developer</td>\n",
       "      <td>0.906458</td>\n",
       "    </tr>\n",
       "    <tr>\n",
       "      <th>3</th>\n",
       "      <td>8</td>\n",
       "      <td>Mobile App Developer</td>\n",
       "      <td>0.876016</td>\n",
       "    </tr>\n",
       "    <tr>\n",
       "      <th>4</th>\n",
       "      <td>9</td>\n",
       "      <td>Graphic Designer</td>\n",
       "      <td>0.866656</td>\n",
       "    </tr>\n",
       "    <tr>\n",
       "      <th>5</th>\n",
       "      <td>1</td>\n",
       "      <td>Customer Happiness Associate</td>\n",
       "      <td>0.864753</td>\n",
       "    </tr>\n",
       "    <tr>\n",
       "      <th>6</th>\n",
       "      <td>5</td>\n",
       "      <td>Customer Happiness Officer</td>\n",
       "      <td>0.852899</td>\n",
       "    </tr>\n",
       "    <tr>\n",
       "      <th>7</th>\n",
       "      <td>4</td>\n",
       "      <td>Digital Marketing Specialist</td>\n",
       "      <td>0.852706</td>\n",
       "    </tr>\n",
       "    <tr>\n",
       "      <th>8</th>\n",
       "      <td>0</td>\n",
       "      <td>Digital Marketing Executive</td>\n",
       "      <td>0.840486</td>\n",
       "    </tr>\n",
       "    <tr>\n",
       "      <th>9</th>\n",
       "      <td>6</td>\n",
       "      <td>Sales Executive</td>\n",
       "      <td>0.838619</td>\n",
       "    </tr>\n",
       "  </tbody>\n",
       "</table>\n",
       "</div>"
      ],
      "text/plain": [
       "   JobID                           Title     Score\n",
       "0      2  Business Development Executive  0.935271\n",
       "1      3                  Data Scientist  0.933031\n",
       "2      7              Software Developer  0.906458\n",
       "3      8            Mobile App Developer  0.876016\n",
       "4      9                Graphic Designer  0.866656\n",
       "5      1    Customer Happiness Associate  0.864753\n",
       "6      5      Customer Happiness Officer  0.852899\n",
       "7      4   Digital Marketing Specialist   0.852706\n",
       "8      0     Digital Marketing Executive  0.840486\n",
       "9      6                 Sales Executive  0.838619"
      ]
     },
     "execution_count": 973,
     "metadata": {},
     "output_type": "execute_result"
    }
   ],
   "source": [
    "recom_by_spacy(nlp, job_df, clean_data, u)"
   ]
  },
  {
   "cell_type": "markdown",
   "id": "ca34c3a5-fe84-47d0-aa3f-7f8d5307c3e2",
   "metadata": {},
   "source": [
    "# KNN Recomender System"
   ]
  },
  {
   "cell_type": "code",
   "execution_count": 974,
   "id": "efe75489-2870-4fbf-b3d5-5e75f0366c7a",
   "metadata": {},
   "outputs": [],
   "source": [
    "from sklearn.neighbors import NearestNeighbors\n",
    "\n",
    "def recom_by_KNN(job_df, candidate_data):\n",
    "    \n",
    "#     n_neighbors = 10\n",
    "    KNN = NearestNeighbors(p=2)\n",
    "    KNN.fit(tfidf_jobid)\n",
    "    NNs = KNN.kneighbors(candidate_tfidf, return_distance=True) \n",
    "\n",
    "    index_spacy = NNs[1][0][1:]\n",
    "    list_scores = NNs[0][0][1:]\n",
    "    recommendation = {'JobID': index_spacy,'Title': [], 'Score': list_scores}\n",
    "    \n",
    "    for i in range(len(recommendation['JobID'])):\n",
    "        recommendation['Title'].append(job_df[job_df['JobID']==i].title[i])    \n",
    "    df = pd.DataFrame(recommendation)\n",
    "    return df"
   ]
  },
  {
   "cell_type": "code",
   "execution_count": 975,
   "id": "158e16c0-bbc6-4183-9150-d7497e8492ba",
   "metadata": {},
   "outputs": [
    {
     "data": {
      "text/html": [
       "<div>\n",
       "<style scoped>\n",
       "    .dataframe tbody tr th:only-of-type {\n",
       "        vertical-align: middle;\n",
       "    }\n",
       "\n",
       "    .dataframe tbody tr th {\n",
       "        vertical-align: top;\n",
       "    }\n",
       "\n",
       "    .dataframe thead th {\n",
       "        text-align: right;\n",
       "    }\n",
       "</style>\n",
       "<table border=\"1\" class=\"dataframe\">\n",
       "  <thead>\n",
       "    <tr style=\"text-align: right;\">\n",
       "      <th></th>\n",
       "      <th>JobID</th>\n",
       "      <th>Title</th>\n",
       "      <th>Score</th>\n",
       "    </tr>\n",
       "  </thead>\n",
       "  <tbody>\n",
       "    <tr>\n",
       "      <th>0</th>\n",
       "      <td>2</td>\n",
       "      <td>Business Development Executive</td>\n",
       "      <td>1.258934</td>\n",
       "    </tr>\n",
       "    <tr>\n",
       "      <th>1</th>\n",
       "      <td>7</td>\n",
       "      <td>Data Scientist</td>\n",
       "      <td>1.308951</td>\n",
       "    </tr>\n",
       "    <tr>\n",
       "      <th>2</th>\n",
       "      <td>8</td>\n",
       "      <td>Software Developer</td>\n",
       "      <td>1.316280</td>\n",
       "    </tr>\n",
       "    <tr>\n",
       "      <th>3</th>\n",
       "      <td>4</td>\n",
       "      <td>Mobile App Developer</td>\n",
       "      <td>1.339715</td>\n",
       "    </tr>\n",
       "  </tbody>\n",
       "</table>\n",
       "</div>"
      ],
      "text/plain": [
       "   JobID                           Title     Score\n",
       "0      2  Business Development Executive  1.258934\n",
       "1      7                  Data Scientist  1.308951\n",
       "2      8              Software Developer  1.316280\n",
       "3      4            Mobile App Developer  1.339715"
      ]
     },
     "execution_count": 975,
     "metadata": {},
     "output_type": "execute_result"
    }
   ],
   "source": [
    "recom_by_KNN(job_df, clean_data)"
   ]
  }
 ],
 "metadata": {
  "kernelspec": {
   "display_name": "Python 3",
   "language": "python",
   "name": "python3"
  },
  "language_info": {
   "codemirror_mode": {
    "name": "ipython",
    "version": 3
   },
   "file_extension": ".py",
   "mimetype": "text/x-python",
   "name": "python",
   "nbconvert_exporter": "python",
   "pygments_lexer": "ipython3",
   "version": "3.8.8"
  }
 },
 "nbformat": 4,
 "nbformat_minor": 5
}
